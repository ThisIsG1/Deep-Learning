{
  "nbformat": 4,
  "nbformat_minor": 0,
  "metadata": {
    "colab": {
      "name": "Mar1-TensorFlow-101.ipynb",
      "provenance": []
    },
    "kernelspec": {
      "name": "python3",
      "display_name": "Python 3"
    },
    "accelerator": "GPU"
  },
  "cells": [
    {
      "cell_type": "code",
      "metadata": {
        "id": "UuIE7kjJVbqh",
        "colab_type": "code",
        "colab": {}
      },
      "source": [
        "#Python Version - 3.x\n",
        "#TensorFlow - 2.x"
      ],
      "execution_count": 0,
      "outputs": []
    },
    {
      "cell_type": "code",
      "metadata": {
        "id": "J-AXTrWyZwM0",
        "colab_type": "code",
        "colab": {
          "base_uri": "https://localhost:8080/",
          "height": 35
        },
        "outputId": "1670c658-e8b7-405b-8a54-5f26c0e522ec"
      },
      "source": [
        "import sys;sys.version"
      ],
      "execution_count": 2,
      "outputs": [
        {
          "output_type": "execute_result",
          "data": {
            "text/plain": [
              "'3.6.9 (default, Nov  7 2019, 10:44:02) \\n[GCC 8.3.0]'"
            ]
          },
          "metadata": {
            "tags": []
          },
          "execution_count": 2
        }
      ]
    },
    {
      "cell_type": "code",
      "metadata": {
        "id": "cYGVsLH-Z6ai",
        "colab_type": "code",
        "colab": {}
      },
      "source": [
        "# How to check RAM"
      ],
      "execution_count": 0,
      "outputs": []
    },
    {
      "cell_type": "code",
      "metadata": {
        "id": "8aneSaokZ9KF",
        "colab_type": "code",
        "colab": {
          "base_uri": "https://localhost:8080/",
          "height": 69
        },
        "outputId": "bd074c5d-2cdb-46ef-a8cb-6f5268f6e330"
      },
      "source": [
        "!free -m"
      ],
      "execution_count": 4,
      "outputs": [
        {
          "output_type": "stream",
          "text": [
            "              total        used        free      shared  buff/cache   available\n",
            "Mem:          13022         563       10400           0        2058       12183\n",
            "Swap:             0           0           0\n"
          ],
          "name": "stdout"
        }
      ]
    },
    {
      "cell_type": "code",
      "metadata": {
        "id": "1H4BmHp8Z-Qw",
        "colab_type": "code",
        "colab": {
          "base_uri": "https://localhost:8080/",
          "height": 312
        },
        "outputId": "2b944842-6ce0-42d7-f146-7ba0d3be6923"
      },
      "source": [
        "! nvidia-smi"
      ],
      "execution_count": 5,
      "outputs": [
        {
          "output_type": "stream",
          "text": [
            "Sun Mar  1 14:03:18 2020       \n",
            "+-----------------------------------------------------------------------------+\n",
            "| NVIDIA-SMI 440.48.02    Driver Version: 418.67       CUDA Version: 10.1     |\n",
            "|-------------------------------+----------------------+----------------------+\n",
            "| GPU  Name        Persistence-M| Bus-Id        Disp.A | Volatile Uncorr. ECC |\n",
            "| Fan  Temp  Perf  Pwr:Usage/Cap|         Memory-Usage | GPU-Util  Compute M. |\n",
            "|===============================+======================+======================|\n",
            "|   0  Tesla T4            Off  | 00000000:00:04.0 Off |                    0 |\n",
            "| N/A   63C    P8    11W /  70W |      0MiB / 15079MiB |      0%      Default |\n",
            "+-------------------------------+----------------------+----------------------+\n",
            "                                                                               \n",
            "+-----------------------------------------------------------------------------+\n",
            "| Processes:                                                       GPU Memory |\n",
            "|  GPU       PID   Type   Process name                             Usage      |\n",
            "|=============================================================================|\n",
            "|  No running processes found                                                 |\n",
            "+-----------------------------------------------------------------------------+\n"
          ],
          "name": "stdout"
        }
      ]
    },
    {
      "cell_type": "code",
      "metadata": {
        "id": "hp5TYl7GaIfD",
        "colab_type": "code",
        "colab": {
          "base_uri": "https://localhost:8080/",
          "height": 35
        },
        "outputId": "4ea978d0-2934-449a-ec87-c46db9c34606"
      },
      "source": [
        "! df -h | grep sda1"
      ],
      "execution_count": 7,
      "outputs": [
        {
          "output_type": "stream",
          "text": [
            "/dev/sda1        75G   38G   38G  50% /opt/bin\n"
          ],
          "name": "stdout"
        }
      ]
    },
    {
      "cell_type": "code",
      "metadata": {
        "id": "uMrfe9YHaSU-",
        "colab_type": "code",
        "colab": {}
      },
      "source": [
        "# If you want to install tensorflow - pip install tensorflow==2.0.0   #us e this line if on local Jupyter system"
      ],
      "execution_count": 0,
      "outputs": []
    },
    {
      "cell_type": "code",
      "metadata": {
        "id": "fVnkT4o6alBl",
        "colab_type": "code",
        "colab": {
          "base_uri": "https://localhost:8080/",
          "height": 104
        },
        "outputId": "6d7e09d4-853e-4d1c-84b4-f6b0e278e8cf"
      },
      "source": [
        "%tensorflow_version 2.0.0     #use this line if on COlab"
      ],
      "execution_count": 9,
      "outputs": [
        {
          "output_type": "stream",
          "text": [
            "`%tensorflow_version` only switches the major version: `1.x` or `2.x`.\n",
            "You set: `2.0.0`. This will be interpreted as: `2.x`.\n",
            "\n",
            "\n",
            "TensorFlow 2.x selected.\n"
          ],
          "name": "stdout"
        }
      ]
    },
    {
      "cell_type": "code",
      "metadata": {
        "id": "6tqYcYagao7Q",
        "colab_type": "code",
        "colab": {}
      },
      "source": [
        "import tensorflow as tf"
      ],
      "execution_count": 0,
      "outputs": []
    },
    {
      "cell_type": "code",
      "metadata": {
        "id": "vgwRMpJVcb8N",
        "colab_type": "code",
        "colab": {
          "base_uri": "https://localhost:8080/",
          "height": 35
        },
        "outputId": "1da151ab-6020-4d8b-8e4a-066a6687e436"
      },
      "source": [
        "tf.__version__"
      ],
      "execution_count": 11,
      "outputs": [
        {
          "output_type": "execute_result",
          "data": {
            "text/plain": [
              "'2.1.0'"
            ]
          },
          "metadata": {
            "tags": []
          },
          "execution_count": 11
        }
      ]
    },
    {
      "cell_type": "code",
      "metadata": {
        "id": "4_wOHpdockDa",
        "colab_type": "code",
        "colab": {
          "base_uri": "https://localhost:8080/",
          "height": 35
        },
        "outputId": "f4db4c76-b845-4784-927b-2ea936dd7217"
      },
      "source": [
        "tf.keras.__version__"
      ],
      "execution_count": 12,
      "outputs": [
        {
          "output_type": "execute_result",
          "data": {
            "text/plain": [
              "'2.2.4-tf'"
            ]
          },
          "metadata": {
            "tags": []
          },
          "execution_count": 12
        }
      ]
    },
    {
      "cell_type": "code",
      "metadata": {
        "id": "RlzVRwNvctz7",
        "colab_type": "code",
        "colab": {}
      },
      "source": [
        "import numpy as np\n",
        "import matplotlib.pyplot as plt\n",
        "import pandas as pd\n",
        "\n"
      ],
      "execution_count": 0,
      "outputs": []
    },
    {
      "cell_type": "code",
      "metadata": {
        "id": "ll37EdlGeEYB",
        "colab_type": "code",
        "colab": {}
      },
      "source": [
        "from tensorflow.keras.datasets import fashion_mnist"
      ],
      "execution_count": 0,
      "outputs": []
    },
    {
      "cell_type": "code",
      "metadata": {
        "id": "JwZRUzCxez9w",
        "colab_type": "code",
        "colab": {
          "base_uri": "https://localhost:8080/",
          "height": 156
        },
        "outputId": "a8aa486d-90c1-41e2-daf5-f1f39f47eeb2"
      },
      "source": [
        "#Input to the model is images and output is label \n",
        "# Dataset is divided in 2 parts - test & train \n",
        "(x_train, y_train),(x_test, y_test) = fashion_mnist.load_data()"
      ],
      "execution_count": 16,
      "outputs": [
        {
          "output_type": "stream",
          "text": [
            "Downloading data from https://storage.googleapis.com/tensorflow/tf-keras-datasets/train-labels-idx1-ubyte.gz\n",
            "32768/29515 [=================================] - 0s 0us/step\n",
            "Downloading data from https://storage.googleapis.com/tensorflow/tf-keras-datasets/train-images-idx3-ubyte.gz\n",
            "26427392/26421880 [==============================] - 0s 0us/step\n",
            "Downloading data from https://storage.googleapis.com/tensorflow/tf-keras-datasets/t10k-labels-idx1-ubyte.gz\n",
            "8192/5148 [===============================================] - 0s 0us/step\n",
            "Downloading data from https://storage.googleapis.com/tensorflow/tf-keras-datasets/t10k-images-idx3-ubyte.gz\n",
            "4423680/4422102 [==============================] - 0s 0us/step\n"
          ],
          "name": "stdout"
        }
      ]
    },
    {
      "cell_type": "code",
      "metadata": {
        "id": "ey-7zmqMixZx",
        "colab_type": "code",
        "colab": {
          "base_uri": "https://localhost:8080/",
          "height": 35
        },
        "outputId": "9ca112a4-c5c4-4e1d-be13-925b99f49826"
      },
      "source": [
        "type(x_train), type(y_train), type(x_test), type(y_test)"
      ],
      "execution_count": 17,
      "outputs": [
        {
          "output_type": "execute_result",
          "data": {
            "text/plain": [
              "(numpy.ndarray, numpy.ndarray, numpy.ndarray, numpy.ndarray)"
            ]
          },
          "metadata": {
            "tags": []
          },
          "execution_count": 17
        }
      ]
    },
    {
      "cell_type": "code",
      "metadata": {
        "id": "HMCWvJp9jCh9",
        "colab_type": "code",
        "colab": {
          "base_uri": "https://localhost:8080/",
          "height": 35
        },
        "outputId": "c96bf401-7fb5-45da-b58b-2ea3933180b1"
      },
      "source": [
        "x_train.shape, y_train.shape"
      ],
      "execution_count": 18,
      "outputs": [
        {
          "output_type": "execute_result",
          "data": {
            "text/plain": [
              "((60000, 28, 28), (60000,))"
            ]
          },
          "metadata": {
            "tags": []
          },
          "execution_count": 18
        }
      ]
    },
    {
      "cell_type": "code",
      "metadata": {
        "id": "-1c1jj-QjUKM",
        "colab_type": "code",
        "colab": {}
      },
      "source": [
        "#Channels are R G B A"
      ],
      "execution_count": 0,
      "outputs": []
    },
    {
      "cell_type": "code",
      "metadata": {
        "id": "7B3ascX5j4mc",
        "colab_type": "code",
        "colab": {}
      },
      "source": [
        "#Grayscale has only 1 channel"
      ],
      "execution_count": 0,
      "outputs": []
    },
    {
      "cell_type": "code",
      "metadata": {
        "id": "-v_Z8h5mkBOc",
        "colab_type": "code",
        "colab": {
          "base_uri": "https://localhost:8080/",
          "height": 35
        },
        "outputId": "f309c2ee-1dd3-43a9-d0cc-15951865c54e"
      },
      "source": [
        "x_test.shape, y_test.shape"
      ],
      "execution_count": 23,
      "outputs": [
        {
          "output_type": "execute_result",
          "data": {
            "text/plain": [
              "((10000, 28, 28), (10000,))"
            ]
          },
          "metadata": {
            "tags": []
          },
          "execution_count": 23
        }
      ]
    },
    {
      "cell_type": "code",
      "metadata": {
        "id": "1ip1E_pokSRc",
        "colab_type": "code",
        "colab": {
          "base_uri": "https://localhost:8080/",
          "height": 283
        },
        "outputId": "ce885a9a-2376-4eb7-fd36-68e207a1e955"
      },
      "source": [
        "plt.imshow(x_train[3],cmap=\"gray\")"
      ],
      "execution_count": 28,
      "outputs": [
        {
          "output_type": "execute_result",
          "data": {
            "text/plain": [
              "<matplotlib.image.AxesImage at 0x7f89d24af6a0>"
            ]
          },
          "metadata": {
            "tags": []
          },
          "execution_count": 28
        },
        {
          "output_type": "display_data",
          "data": {
            "image/png": "[encoded data removed]",
            "text/plain": [
              "<Figure size 432x288 with 1 Axes>"
            ]
          },
          "metadata": {
            "tags": []
          }
        }
      ]
    },
    {
      "cell_type": "code",
      "metadata": {
        "id": "UnD9kxuIkvcc",
        "colab_type": "code",
        "colab": {
          "base_uri": "https://localhost:8080/",
          "height": 35
        },
        "outputId": "7bf9bf18-f54b-4075-be6d-75bda020feb9"
      },
      "source": [
        "\n",
        "print( y_train[3])\n"
      ],
      "execution_count": 29,
      "outputs": [
        {
          "output_type": "stream",
          "text": [
            "3\n"
          ],
          "name": "stdout"
        }
      ]
    },
    {
      "cell_type": "markdown",
      "metadata": {
        "id": "UETKwXOplvSS",
        "colab_type": "text"
      },
      "source": [
        "\n",
        "```\n",
        "Label\tDescription\n",
        "0\tT-shirt/top\n",
        "1\tTrouser\n",
        "2\tPullover\n",
        "3\tDress\n",
        "4\tCoat\n",
        "5\tSandal\n",
        "6\tShirt\n",
        "7\tSneaker\n",
        "8\tBag\n",
        "9\tAnkle boot\n",
        "\n",
        "# This is formatted as code\n",
        "```\n",
        "\n"
      ]
    },
    {
      "cell_type": "code",
      "metadata": {
        "id": "5YlfX1zpk6gc",
        "colab_type": "code",
        "colab": {
          "base_uri": "https://localhost:8080/",
          "height": 35
        },
        "outputId": "8dbc1fce-0ead-4491-948e-f020d0902f5f"
      },
      "source": [
        "x_train[3].max(),x_train[3].min()"
      ],
      "execution_count": 30,
      "outputs": [
        {
          "output_type": "execute_result",
          "data": {
            "text/plain": [
              "(255, 0)"
            ]
          },
          "metadata": {
            "tags": []
          },
          "execution_count": 30
        }
      ]
    },
    {
      "cell_type": "code",
      "metadata": {
        "id": "OZfE-74PmVce",
        "colab_type": "code",
        "colab": {
          "base_uri": "https://localhost:8080/",
          "height": 35
        },
        "outputId": "e2344cfa-ae2c-4409-be35-4d561d7c4e47"
      },
      "source": [
        "x_train[3].shape"
      ],
      "execution_count": 31,
      "outputs": [
        {
          "output_type": "execute_result",
          "data": {
            "text/plain": [
              "(28, 28)"
            ]
          },
          "metadata": {
            "tags": []
          },
          "execution_count": 31
        }
      ]
    },
    {
      "cell_type": "code",
      "metadata": {
        "id": "WRAQntC0mp69",
        "colab_type": "code",
        "colab": {
          "base_uri": "https://localhost:8080/",
          "height": 52
        },
        "outputId": "33b45e3d-1c52-404b-e232-3b252ef0536c"
      },
      "source": [
        "np.unique(y_train, return_counts=True)"
      ],
      "execution_count": 34,
      "outputs": [
        {
          "output_type": "execute_result",
          "data": {
            "text/plain": [
              "(array([0, 1, 2, 3, 4, 5, 6, 7, 8, 9], dtype=uint8),\n",
              " array([6000, 6000, 6000, 6000, 6000, 6000, 6000, 6000, 6000, 6000]))"
            ]
          },
          "metadata": {
            "tags": []
          },
          "execution_count": 34
        }
      ]
    },
    {
      "cell_type": "code",
      "metadata": {
        "id": "oUiS964vnRAt",
        "colab_type": "code",
        "colab": {}
      },
      "source": [
        "#normalize dataset\n",
        "\n",
        "x_train = x_train / 255"
      ],
      "execution_count": 0,
      "outputs": []
    },
    {
      "cell_type": "code",
      "metadata": {
        "id": "0aLdLntvn-rt",
        "colab_type": "code",
        "colab": {}
      },
      "source": [
        "# [5, 10, 15]  - [0.33, 0.66, 1]  - MinMaxScaler"
      ],
      "execution_count": 0,
      "outputs": []
    },
    {
      "cell_type": "code",
      "metadata": {
        "id": "K034hUneo7rN",
        "colab_type": "code",
        "colab": {
          "base_uri": "https://localhost:8080/",
          "height": 283
        },
        "outputId": "db93d9c5-851c-44f2-8554-14293894e713"
      },
      "source": [
        "plt.imshow(x_train[3],cmap=\"gray\")"
      ],
      "execution_count": 39,
      "outputs": [
        {
          "output_type": "execute_result",
          "data": {
            "text/plain": [
              "<matplotlib.image.AxesImage at 0x7f89d23bf400>"
            ]
          },
          "metadata": {
            "tags": []
          },
          "execution_count": 39
        },
        {
          "output_type": "display_data",
          "data": {
            "image/png": "[encoded data removed]",
            "text/plain": [
              "<Figure size 432x288 with 1 Axes>"
            ]
          },
          "metadata": {
            "tags": []
          }
        }
      ]
    },
    {
      "cell_type": "code",
      "metadata": {
        "id": "rAuRvsN1pPsO",
        "colab_type": "code",
        "colab": {
          "base_uri": "https://localhost:8080/",
          "height": 35
        },
        "outputId": "3f49b1b5-f79a-4d83-851a-f6ee9d853d7c"
      },
      "source": [
        "x_train[3].max(),x_train[3].min()"
      ],
      "execution_count": 40,
      "outputs": [
        {
          "output_type": "execute_result",
          "data": {
            "text/plain": [
              "(1.0, 0.0)"
            ]
          },
          "metadata": {
            "tags": []
          },
          "execution_count": 40
        }
      ]
    },
    {
      "cell_type": "code",
      "metadata": {
        "id": "ypzZlbe1pY9N",
        "colab_type": "code",
        "colab": {}
      },
      "source": [
        "# [I, II, III]\n",
        "# We do onehot encoding for categorical values\n",
        "# I   1     [1,0,0]\n",
        "# II  2     [0,1,0]\n",
        "# III 3     [0,0,1]"
      ],
      "execution_count": 0,
      "outputs": []
    },
    {
      "cell_type": "code",
      "metadata": {
        "id": "DnAmWDIxqSx7",
        "colab_type": "code",
        "colab": {}
      },
      "source": [
        "# Cat       1     [1, 0, 0, 0]\n",
        "# Dog       2     [0, 1, 0, 0]\n",
        "# Elephant  3     [0, 0, 1, 0]\n",
        "# Horse     4     [0, 0, 0, 1]"
      ],
      "execution_count": 0,
      "outputs": []
    },
    {
      "cell_type": "code",
      "metadata": {
        "id": "2DnAS1oIsYn1",
        "colab_type": "code",
        "colab": {}
      },
      "source": [
        "from tensorflow.keras.utils import to_categorical"
      ],
      "execution_count": 0,
      "outputs": []
    },
    {
      "cell_type": "code",
      "metadata": {
        "id": "Gx8QIdETslMO",
        "colab_type": "code",
        "colab": {
          "base_uri": "https://localhost:8080/",
          "height": 35
        },
        "outputId": "efaa4678-180e-42d8-9c7c-bd490b16a702"
      },
      "source": [
        "y_train"
      ],
      "execution_count": 45,
      "outputs": [
        {
          "output_type": "execute_result",
          "data": {
            "text/plain": [
              "array([9, 0, 0, ..., 3, 0, 5], dtype=uint8)"
            ]
          },
          "metadata": {
            "tags": []
          },
          "execution_count": 45
        }
      ]
    },
    {
      "cell_type": "code",
      "metadata": {
        "id": "Y9bBFQA2soSQ",
        "colab_type": "code",
        "colab": {
          "base_uri": "https://localhost:8080/",
          "height": 139
        },
        "outputId": "89fdabfb-7c35-46ca-fa98-f60020f72037"
      },
      "source": [
        "to_categorical(y_train)"
      ],
      "execution_count": 46,
      "outputs": [
        {
          "output_type": "execute_result",
          "data": {
            "text/plain": [
              "array([[0., 0., 0., ..., 0., 0., 1.],\n",
              "       [1., 0., 0., ..., 0., 0., 0.],\n",
              "       [1., 0., 0., ..., 0., 0., 0.],\n",
              "       ...,\n",
              "       [0., 0., 0., ..., 0., 0., 0.],\n",
              "       [1., 0., 0., ..., 0., 0., 0.],\n",
              "       [0., 0., 0., ..., 0., 0., 0.]], dtype=float32)"
            ]
          },
          "metadata": {
            "tags": []
          },
          "execution_count": 46
        }
      ]
    },
    {
      "cell_type": "code",
      "metadata": {
        "id": "IFcFfrpjw4FE",
        "colab_type": "code",
        "colab": {}
      },
      "source": [
        ""
      ],
      "execution_count": 0,
      "outputs": []
    },
    {
      "cell_type": "code",
      "metadata": {
        "id": "G-0AZ5qXwsos",
        "colab_type": "code",
        "colab": {}
      },
      "source": [
        "y_train= to_categorical(y_train)"
      ],
      "execution_count": 0,
      "outputs": []
    },
    {
      "cell_type": "code",
      "metadata": {
        "id": "y03c2KnUst_-",
        "colab_type": "code",
        "colab": {}
      },
      "source": [
        "# 1. Loaded MNIST Dataset\n",
        "# 2. normalized x train (MinMaxScaler similar to dividing by maxValue)\n",
        "# 3. normalized y train (onehot encoding)"
      ],
      "execution_count": 0,
      "outputs": []
    },
    {
      "cell_type": "code",
      "metadata": {
        "id": "v8A9xP4YwREi",
        "colab_type": "code",
        "colab": {}
      },
      "source": [
        "x_test = x_test / 255"
      ],
      "execution_count": 0,
      "outputs": []
    },
    {
      "cell_type": "code",
      "metadata": {
        "id": "SZ_s-Hr4w92E",
        "colab_type": "code",
        "colab": {}
      },
      "source": [
        "y_test = to_categorical(y_test)"
      ],
      "execution_count": 0,
      "outputs": []
    },
    {
      "cell_type": "code",
      "metadata": {
        "id": "HRdMR309w_-D",
        "colab_type": "code",
        "colab": {}
      },
      "source": [
        "from tensorflow.keras.models import Sequential \n",
        "from tensorflow.keras.layers import Dense, Flatten\n",
        "from tensorflow.keras.activations import relu, softmax\n",
        "from tensorflow.keras.losses import categorical_crossentropy\n",
        "from tensorflow.keras.optimizers import SGD"
      ],
      "execution_count": 0,
      "outputs": []
    },
    {
      "cell_type": "code",
      "metadata": {
        "id": "pl2wfuXcxY9g",
        "colab_type": "code",
        "colab": {}
      },
      "source": [
        "# SGD stochastic gradient desent"
      ],
      "execution_count": 0,
      "outputs": []
    },
    {
      "cell_type": "code",
      "metadata": {
        "id": "SyDyQd2y37Yn",
        "colab_type": "code",
        "colab": {}
      },
      "source": [
        "mod=Sequential()\n",
        "mod.add(Flatten(input_shape=(28,28)))\n",
        "mod.add(Dense(512,activation=relu))\n",
        "mod.add(Dense(10,activation=softmax))"
      ],
      "execution_count": 0,
      "outputs": []
    },
    {
      "cell_type": "code",
      "metadata": {
        "id": "59wdv3BS6BlZ",
        "colab_type": "code",
        "colab": {
          "base_uri": "https://localhost:8080/",
          "height": 260
        },
        "outputId": "6399106b-8d80-4e87-e900-e0414ade35fa"
      },
      "source": [
        "mod.summary()"
      ],
      "execution_count": 56,
      "outputs": [
        {
          "output_type": "stream",
          "text": [
            "Model: \"sequential\"\n",
            "_________________________________________________________________\n",
            "Layer (type)                 Output Shape              Param #   \n",
            "=================================================================\n",
            "flatten (Flatten)            (None, 784)               0         \n",
            "_________________________________________________________________\n",
            "dense (Dense)                (None, 512)               401920    \n",
            "_________________________________________________________________\n",
            "dense_1 (Dense)              (None, 10)                5130      \n",
            "=================================================================\n",
            "Total params: 407,050\n",
            "Trainable params: 407,050\n",
            "Non-trainable params: 0\n",
            "_________________________________________________________________\n"
          ],
          "name": "stdout"
        }
      ]
    },
    {
      "cell_type": "code",
      "metadata": {
        "id": "Uy9a0pQ06JlR",
        "colab_type": "code",
        "colab": {}
      },
      "source": [
        "mod.compile(optimizer=SGD(),loss=categorical_crossentropy,metrics=[\"acc\"])"
      ],
      "execution_count": 0,
      "outputs": []
    },
    {
      "cell_type": "code",
      "metadata": {
        "id": "sfrORcVL6ZIL",
        "colab_type": "code",
        "colab": {
          "base_uri": "https://localhost:8080/",
          "height": 745
        },
        "outputId": "adf5ad5d-611b-446b-e563-a5cf3280df64"
      },
      "source": [
        "#Run the model\n",
        "mod.fit(x_train,y_train, 1024, 20)"
      ],
      "execution_count": 62,
      "outputs": [
        {
          "output_type": "stream",
          "text": [
            "Train on 60000 samples\n",
            "Epoch 1/20\n",
            "60000/60000 [==============================] - 0s 6us/sample - loss: 0.4971 - acc: 0.8352\n",
            "Epoch 2/20\n",
            "60000/60000 [==============================] - 0s 6us/sample - loss: 0.4947 - acc: 0.8358\n",
            "Epoch 3/20\n",
            "60000/60000 [==============================] - 0s 6us/sample - loss: 0.4925 - acc: 0.8359\n",
            "Epoch 4/20\n",
            "60000/60000 [==============================] - 0s 6us/sample - loss: 0.4903 - acc: 0.8364\n",
            "Epoch 5/20\n",
            "60000/60000 [==============================] - 0s 6us/sample - loss: 0.4882 - acc: 0.8377\n",
            "Epoch 6/20\n",
            "60000/60000 [==============================] - 0s 6us/sample - loss: 0.4862 - acc: 0.8377\n",
            "Epoch 7/20\n",
            "60000/60000 [==============================] - 0s 6us/sample - loss: 0.4841 - acc: 0.8382\n",
            "Epoch 8/20\n",
            "60000/60000 [==============================] - 0s 6us/sample - loss: 0.4825 - acc: 0.8389\n",
            "Epoch 9/20\n",
            "60000/60000 [==============================] - 0s 6us/sample - loss: 0.4805 - acc: 0.8396\n",
            "Epoch 10/20\n",
            "60000/60000 [==============================] - 0s 6us/sample - loss: 0.4789 - acc: 0.8398\n",
            "Epoch 11/20\n",
            "60000/60000 [==============================] - 0s 6us/sample - loss: 0.4770 - acc: 0.8403\n",
            "Epoch 12/20\n",
            "60000/60000 [==============================] - 0s 6us/sample - loss: 0.4754 - acc: 0.8407\n",
            "Epoch 13/20\n",
            "60000/60000 [==============================] - 0s 6us/sample - loss: 0.4737 - acc: 0.8411\n",
            "Epoch 14/20\n",
            "60000/60000 [==============================] - 0s 6us/sample - loss: 0.4722 - acc: 0.8417\n",
            "Epoch 15/20\n",
            "60000/60000 [==============================] - 0s 6us/sample - loss: 0.4706 - acc: 0.8422\n",
            "Epoch 16/20\n",
            "60000/60000 [==============================] - 0s 6us/sample - loss: 0.4690 - acc: 0.8429\n",
            "Epoch 17/20\n",
            "60000/60000 [==============================] - 0s 6us/sample - loss: 0.4675 - acc: 0.8431\n",
            "Epoch 18/20\n",
            "60000/60000 [==============================] - 0s 6us/sample - loss: 0.4660 - acc: 0.8434\n",
            "Epoch 19/20\n",
            "60000/60000 [==============================] - 0s 6us/sample - loss: 0.4645 - acc: 0.8435\n",
            "Epoch 20/20\n",
            "60000/60000 [==============================] - 0s 6us/sample - loss: 0.4632 - acc: 0.8443\n"
          ],
          "name": "stdout"
        },
        {
          "output_type": "execute_result",
          "data": {
            "text/plain": [
              "<tensorflow.python.keras.callbacks.History at 0x7f89c00b8550>"
            ]
          },
          "metadata": {
            "tags": []
          },
          "execution_count": 62
        }
      ]
    },
    {
      "cell_type": "code",
      "metadata": {
        "id": "KZ8hhWiX6_tM",
        "colab_type": "code",
        "colab": {}
      },
      "source": [
        ""
      ],
      "execution_count": 0,
      "outputs": []
    }
  ]
}