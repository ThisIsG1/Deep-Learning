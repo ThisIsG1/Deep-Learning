{
  "nbformat": 4,
  "nbformat_minor": 0,
  "metadata": {
    "colab": {
      "name": "29thFeb NN from Numpy-1.ipynb",
      "provenance": [],
      "collapsed_sections": []
    },
    "kernelspec": {
      "name": "python3",
      "display_name": "Python 3"
    }
  },
  "cells": [
    {
      "cell_type": "code",
      "metadata": {
        "id": "pYZqKomIWRWy",
        "colab_type": "code",
        "colab": {}
      },
      "source": [
        "import numpy as np \n",
        "import pandas as pd\n",
        "import matplotlib.pyplot as plt"
      ],
      "execution_count": 0,
      "outputs": []
    },
    {
      "cell_type": "code",
      "metadata": {
        "id": "ftML7QYKWet5",
        "colab_type": "code",
        "colab": {}
      },
      "source": [
        "# y = 7*x1 + 3*x2"
      ],
      "execution_count": 0,
      "outputs": []
    },
    {
      "cell_type": "code",
      "metadata": {
        "id": "hOG-RWzRWvEG",
        "colab_type": "code",
        "colab": {}
      },
      "source": [
        "# Input \n",
        "x1 = 3\n",
        "x2 = 5 \n",
        "\n",
        "# Ground Truth\n",
        "y  = 36"
      ],
      "execution_count": 0,
      "outputs": []
    },
    {
      "cell_type": "code",
      "metadata": {
        "id": "geKHvJ0WYpHQ",
        "colab_type": "code",
        "colab": {}
      },
      "source": [
        ""
      ],
      "execution_count": 0,
      "outputs": []
    },
    {
      "cell_type": "code",
      "metadata": {
        "id": "XDoUM7KSW0a4",
        "colab_type": "code",
        "colab": {}
      },
      "source": [
        "# Equation of affine - y_pred = x1*w1 + x2*w2 + b "
      ],
      "execution_count": 0,
      "outputs": []
    },
    {
      "cell_type": "code",
      "metadata": {
        "id": "0Ch-mS9CXDor",
        "colab_type": "code",
        "colab": {
          "base_uri": "https://localhost:8080/",
          "height": 485
        },
        "outputId": "858371e9-67d2-46bf-da91-603901cd1b55"
      },
      "source": [
        "# y_pred = x1*w1 + x2*w2 + b \n",
        "\n",
        "w1 = 8\n",
        "w2 = 3\n",
        "lr = 0.01\n",
        "\n",
        "w1_list = []\n",
        "w2_list = []\n",
        "\n",
        "dEdw1_list = []\n",
        "dEdw2_list = []\n",
        "error_list = []\n",
        "\n",
        "for epoch in range(25):\n",
        "    y_pred = w1*x1 + w2*x2 \n",
        "    error = (y - y_pred)**2\n",
        "    error_list.append(error)\n",
        "\n",
        "    dEdw1 = 2*(y - y_pred)*(-x1)\n",
        "    dEdw2 = 2*(y - y_pred)*(-x2)\n",
        "    dEdw1_list.append(dEdw1)\n",
        "    dEdw2_list.append(dEdw2)\n",
        "\n",
        "    w1_list.append(w1)\n",
        "    w2_list.append(w2)\n",
        "    w1 = w1 - lr*(dEdw1)\n",
        "    w2 = w2 - lr*(dEdw2)\n",
        "\n",
        "\n",
        "    print(f\"Value of w1 is {round(w1, 3)} and w2 is {round(w2, 3)}\")"
      ],
      "execution_count": 47,
      "outputs": [
        {
          "output_type": "stream",
          "text": [
            "Value of w1 is 7.82 and w2 is 2.7\n",
            "Value of w1 is 7.762 and w2 is 2.604\n",
            "Value of w1 is 7.744 and w2 is 2.573\n",
            "Value of w1 is 7.738 and w2 is 2.563\n",
            "Value of w1 is 7.736 and w2 is 2.56\n",
            "Value of w1 is 7.736 and w2 is 2.559\n",
            "Value of w1 is 7.735 and w2 is 2.559\n",
            "Value of w1 is 7.735 and w2 is 2.559\n",
            "Value of w1 is 7.735 and w2 is 2.559\n",
            "Value of w1 is 7.735 and w2 is 2.559\n",
            "Value of w1 is 7.735 and w2 is 2.559\n",
            "Value of w1 is 7.735 and w2 is 2.559\n",
            "Value of w1 is 7.735 and w2 is 2.559\n",
            "Value of w1 is 7.735 and w2 is 2.559\n",
            "Value of w1 is 7.735 and w2 is 2.559\n",
            "Value of w1 is 7.735 and w2 is 2.559\n",
            "Value of w1 is 7.735 and w2 is 2.559\n",
            "Value of w1 is 7.735 and w2 is 2.559\n",
            "Value of w1 is 7.735 and w2 is 2.559\n",
            "Value of w1 is 7.735 and w2 is 2.559\n",
            "Value of w1 is 7.735 and w2 is 2.559\n",
            "Value of w1 is 7.735 and w2 is 2.559\n",
            "Value of w1 is 7.735 and w2 is 2.559\n",
            "Value of w1 is 7.735 and w2 is 2.559\n",
            "Value of w1 is 7.735 and w2 is 2.559\n"
          ],
          "name": "stdout"
        }
      ]
    },
    {
      "cell_type": "code",
      "metadata": {
        "id": "ebvLAJXNf8QP",
        "colab_type": "code",
        "colab": {
          "base_uri": "https://localhost:8080/",
          "height": 485
        },
        "outputId": "6e754f3f-ff42-4d03-e829-a5f7dc16ef1c"
      },
      "source": [
        "w1_list"
      ],
      "execution_count": 45,
      "outputs": [
        {
          "output_type": "execute_result",
          "data": {
            "text/plain": [
              "[2,\n",
              " 3.5,\n",
              " 3.98,\n",
              " 4.1336,\n",
              " 4.182752,\n",
              " 4.1984806400000005,\n",
              " 4.203513804800001,\n",
              " 4.205124417536001,\n",
              " 4.205639813611521,\n",
              " 4.2058047403556875,\n",
              " 4.20585751691382,\n",
              " 4.205874405412423,\n",
              " 4.205879809731976,\n",
              " 4.205881539114233,\n",
              " 4.205882092516555,\n",
              " 4.205882269605299,\n",
              " 4.205882326273697,\n",
              " 4.205882344407584,\n",
              " 4.205882350210428,\n",
              " 4.205882352067338,\n",
              " 4.20588235266155,\n",
              " 4.205882352851697,\n",
              " 4.205882352912544,\n",
              " 4.205882352932016,\n",
              " 4.2058823529382465]"
            ]
          },
          "metadata": {
            "tags": []
          },
          "execution_count": 45
        }
      ]
    },
    {
      "cell_type": "code",
      "metadata": {
        "id": "wtnjUNOQaSdY",
        "colab_type": "code",
        "colab": {
          "base_uri": "https://localhost:8080/",
          "height": 36
        },
        "outputId": "3ae4b1e5-7ba9-42b5-e336-1abccba6b41c"
      },
      "source": [
        "x1*w1 + x2*w2 "
      ],
      "execution_count": 38,
      "outputs": [
        {
          "output_type": "execute_result",
          "data": {
            "text/plain": [
              "35.99999999998937"
            ]
          },
          "metadata": {
            "tags": []
          },
          "execution_count": 38
        }
      ]
    },
    {
      "cell_type": "code",
      "metadata": {
        "id": "uC2wylQOaZji",
        "colab_type": "code",
        "colab": {
          "base_uri": "https://localhost:8080/",
          "height": 284
        },
        "outputId": "fa471169-9b58-41e7-bd43-8408ca76d471"
      },
      "source": [
        "plt.plot(error_list)"
      ],
      "execution_count": 39,
      "outputs": [
        {
          "output_type": "execute_result",
          "data": {
            "text/plain": [
              "[<matplotlib.lines.Line2D at 0x7f0e73e93d68>]"
            ]
          },
          "metadata": {
            "tags": []
          },
          "execution_count": 39
        },
        {
          "output_type": "display_data",
          "data": {
            "image/png": "[encoded data removed]",
            "text/plain": [
              "<Figure size 432x288 with 1 Axes>"
            ]
          },
          "metadata": {
            "tags": []
          }
        }
      ]
    },
    {
      "cell_type": "code",
      "metadata": {
        "id": "EYeGTklScDVd",
        "colab_type": "code",
        "colab": {
          "base_uri": "https://localhost:8080/",
          "height": 284
        },
        "outputId": "865f0ab1-c9a5-466f-d1b7-5116ddc6e7f3"
      },
      "source": [
        "plt.plot(w1_list, label=\"w1\")\n",
        "plt.plot(w2_list, label=\"w2\")\n",
        "plt.legend()"
      ],
      "execution_count": 43,
      "outputs": [
        {
          "output_type": "execute_result",
          "data": {
            "text/plain": [
              "<matplotlib.legend.Legend at 0x7f0e73d66b38>"
            ]
          },
          "metadata": {
            "tags": []
          },
          "execution_count": 43
        },
        {
          "output_type": "display_data",
          "data": {
            "image/png": "[encoded data removed]",
            "text/plain": [
              "<Figure size 432x288 with 1 Axes>"
            ]
          },
          "metadata": {
            "tags": []
          }
        }
      ]
    },
    {
      "cell_type": "code",
      "metadata": {
        "id": "yrWyK79jcDHR",
        "colab_type": "code",
        "colab": {}
      },
      "source": [
        ""
      ],
      "execution_count": 0,
      "outputs": []
    },
    {
      "cell_type": "code",
      "metadata": {
        "id": "NWdTohwMg09m",
        "colab_type": "code",
        "colab": {}
      },
      "source": [
        ""
      ],
      "execution_count": 0,
      "outputs": []
    },
    {
      "cell_type": "code",
      "metadata": {
        "id": "A9y7wZFqg07B",
        "colab_type": "code",
        "colab": {}
      },
      "source": [
        ""
      ],
      "execution_count": 0,
      "outputs": []
    },
    {
      "cell_type": "code",
      "metadata": {
        "id": "bwc5TeWfg04d",
        "colab_type": "code",
        "colab": {}
      },
      "source": [
        ""
      ],
      "execution_count": 0,
      "outputs": []
    },
    {
      "cell_type": "code",
      "metadata": {
        "id": "HRzAaPyvg01s",
        "colab_type": "code",
        "colab": {}
      },
      "source": [
        ""
      ],
      "execution_count": 0,
      "outputs": []
    },
    {
      "cell_type": "code",
      "metadata": {
        "id": "WiJiIniSg0vC",
        "colab_type": "code",
        "colab": {}
      },
      "source": [
        ""
      ],
      "execution_count": 0,
      "outputs": []
    },
    {
      "cell_type": "code",
      "metadata": {
        "id": "JgaSCHkig0q2",
        "colab_type": "code",
        "colab": {}
      },
      "source": [
        ""
      ],
      "execution_count": 0,
      "outputs": []
    },
    {
      "cell_type": "markdown",
      "metadata": {
        "id": "wIU011uphK1Y",
        "colab_type": "text"
      },
      "source": [
        "### Dual Equation "
      ]
    },
    {
      "cell_type": "code",
      "metadata": {
        "id": "F3COpZmkcDC5",
        "colab_type": "code",
        "colab": {}
      },
      "source": [
        "# y = 3*x1 + 4*x2 "
      ],
      "execution_count": 0,
      "outputs": []
    },
    {
      "cell_type": "code",
      "metadata": {
        "id": "G2ANijlnhVnZ",
        "colab_type": "code",
        "colab": {}
      },
      "source": [
        "x1 = 3 \n",
        "x2 = 2 \n",
        "y1 = 17\n",
        "\n",
        "\n",
        "x3 = 2\n",
        "x4 = 3\n",
        "y2   = 18 "
      ],
      "execution_count": 0,
      "outputs": []
    },
    {
      "cell_type": "code",
      "metadata": {
        "id": "ufGelCPZibpc",
        "colab_type": "code",
        "colab": {}
      },
      "source": [
        "# Matrix formation of the above equation\n",
        "# | 3      2 |       |x1|   =  |  17 |\n",
        "# | 2      3 |       |x2|   =  |  18 |"
      ],
      "execution_count": 0,
      "outputs": []
    },
    {
      "cell_type": "code",
      "metadata": {
        "id": "2O1kUQefhm46",
        "colab_type": "code",
        "colab": {}
      },
      "source": [
        "#y1 = w1*x1 + w2*x2\n",
        "#y2 = w1*x3 + w2*x4"
      ],
      "execution_count": 0,
      "outputs": []
    },
    {
      "cell_type": "code",
      "metadata": {
        "id": "AT8zT1N7jShL",
        "colab_type": "code",
        "colab": {}
      },
      "source": [
        "# Matrix formation of the above equation\n",
        "# | x1      x2 |       |w1|   =  |  y1  |\n",
        "# | x3      x4 |       |w2|   =  |  y2  |"
      ],
      "execution_count": 0,
      "outputs": []
    },
    {
      "cell_type": "code",
      "metadata": {
        "id": "A0DwAQoJh1Xa",
        "colab_type": "code",
        "colab": {}
      },
      "source": [
        "y = [[17],\n",
        "     [18]]\n",
        "\n",
        "x = [[x1, x2], \n",
        "     [x3, x4]]\n",
        "\n",
        "w = [[w1], \n",
        "     [w2]]"
      ],
      "execution_count": 0,
      "outputs": []
    },
    {
      "cell_type": "code",
      "metadata": {
        "id": "JX6wRpzvjnck",
        "colab_type": "code",
        "colab": {}
      },
      "source": [
        "x = np.array([[3, 2],\n",
        "              [2, 3]])\n",
        "\n",
        "y = np.array([[17],\n",
        "              [18]])\n"
      ],
      "execution_count": 0,
      "outputs": []
    },
    {
      "cell_type": "code",
      "metadata": {
        "id": "xfGz9UTuj9-P",
        "colab_type": "code",
        "colab": {
          "base_uri": "https://localhost:8080/",
          "height": 54
        },
        "outputId": "2e3c158f-c051-4762-9510-35cc4e3b96a3"
      },
      "source": [
        "x"
      ],
      "execution_count": 58,
      "outputs": [
        {
          "output_type": "execute_result",
          "data": {
            "text/plain": [
              "array([[3, 2],\n",
              "       [2, 3]])"
            ]
          },
          "metadata": {
            "tags": []
          },
          "execution_count": 58
        }
      ]
    },
    {
      "cell_type": "code",
      "metadata": {
        "id": "J9-f4ms2kAoI",
        "colab_type": "code",
        "colab": {
          "base_uri": "https://localhost:8080/",
          "height": 54
        },
        "outputId": "f1339334-c16a-4c21-e966-c50fabb3fcec"
      },
      "source": [
        "y"
      ],
      "execution_count": 59,
      "outputs": [
        {
          "output_type": "execute_result",
          "data": {
            "text/plain": [
              "array([[17],\n",
              "       [18]])"
            ]
          },
          "metadata": {
            "tags": []
          },
          "execution_count": 59
        }
      ]
    },
    {
      "cell_type": "code",
      "metadata": {
        "id": "Ez7lCFKakOqx",
        "colab_type": "code",
        "colab": {
          "base_uri": "https://localhost:8080/",
          "height": 54
        },
        "outputId": "2c6a6e71-c006-454d-bed4-eef2d635bf78"
      },
      "source": [
        "w"
      ],
      "execution_count": 73,
      "outputs": [
        {
          "output_type": "execute_result",
          "data": {
            "text/plain": [
              "array([[0.06811981],\n",
              "       [0.84516444]])"
            ]
          },
          "metadata": {
            "tags": []
          },
          "execution_count": 73
        }
      ]
    },
    {
      "cell_type": "code",
      "metadata": {
        "id": "Rj6Vxd3JkPiu",
        "colab_type": "code",
        "colab": {}
      },
      "source": [
        "# y = x*w "
      ],
      "execution_count": 0,
      "outputs": []
    },
    {
      "cell_type": "code",
      "metadata": {
        "id": "hiHFUIHckUo6",
        "colab_type": "code",
        "colab": {
          "base_uri": "https://localhost:8080/",
          "height": 36
        },
        "outputId": "7f520181-1318-4e3d-d984-ced6c7bd73ea"
      },
      "source": [
        "y.shape, x.shape, w.shape"
      ],
      "execution_count": 63,
      "outputs": [
        {
          "output_type": "execute_result",
          "data": {
            "text/plain": [
              "((2, 1), (2, 2), (2, 1))"
            ]
          },
          "metadata": {
            "tags": []
          },
          "execution_count": 63
        }
      ]
    },
    {
      "cell_type": "code",
      "metadata": {
        "id": "jmCigcHon9e7",
        "colab_type": "code",
        "colab": {}
      },
      "source": [
        ""
      ],
      "execution_count": 0,
      "outputs": []
    },
    {
      "cell_type": "code",
      "metadata": {
        "id": "mOv86BH6kXcI",
        "colab_type": "code",
        "colab": {
          "base_uri": "https://localhost:8080/",
          "height": 676
        },
        "outputId": "6852891c-794e-4ac6-c839-9a9dfe6eb6f5"
      },
      "source": [
        "lr = 0.01\n",
        "error_list = []\n",
        "\n",
        "\n",
        "# w1 = np.random.randn(1)\n",
        "# w2 = np.random.randn(1)\n",
        "w1 = 10\n",
        "w2 = 5 \n",
        "\n",
        "print(w1, w2)\n",
        "w = np.array([[w1],\n",
        "              [w2]])\n",
        "\n",
        "for i in range(20):\n",
        "    y_pred = np.dot(x, w)\n",
        "    error = 0.5*np.sum((y - y_pred)**2)\n",
        "    error_list.append(error)\n",
        "\n",
        "    dEdw1 = 2 * np.dot(((y - y_pred).T), -x[:, 0])\n",
        "    dEdw2 = 2 * np.dot(((y - y_pred).T), -x[:, 1]) \n",
        "\n",
        "    w1 = w1 - lr * dEdw1\n",
        "    w2 = w2 - lr * dEdw2\n",
        "\n",
        "    w = np.array([[w1][0],\n",
        "                  [w2][0]])\n",
        "    print(f\"value of w1 is {w[0]} and w2 is {w[1]}\")\n",
        "plt.plot(error_list)"
      ],
      "execution_count": 81,
      "outputs": [
        {
          "output_type": "stream",
          "text": [
            "10 5\n",
            "value of w1 is [7.94] and w2 is [3.06]\n",
            "value of w1 is [6.8812] and w2 is [2.1188]\n",
            "value of w1 is [6.323576] and w2 is [1.676424]\n",
            "value of w1 is [6.01710448] and w2 is [1.48289552]\n",
            "value of w1 is [5.83676239] and w2 is [1.41323761]\n",
            "value of w1 is [5.72002714] and w2 is [1.40497286]\n",
            "value of w1 is [5.6356266] and w2 is [1.4268734]\n",
            "value of w1 is [5.56791407] and w2 is [1.46333593]\n",
            "value of w1 is [5.50905579] and w2 is [1.50656921]\n",
            "value of w1 is [5.45512467] and w2 is [1.55268783]\n",
            "value of w1 is [5.40414718] and w2 is [1.59975907]\n",
            "value of w1 is [5.35512673] and w2 is [1.64682639]\n",
            "value of w1 is [5.30755545] and w2 is [1.69342111]\n",
            "value of w1 is [5.26116997] and w2 is [1.73931832]\n",
            "value of w1 is [5.21582938] and w2 is [1.78441476]\n",
            "value of w1 is [5.1714542] and w2 is [1.82866787]\n",
            "value of w1 is [5.12799582] and w2 is [1.87206522]\n",
            "value of w1 is [5.08542125] and w2 is [1.91460927]\n",
            "value of w1 is [5.0437055] and w2 is [1.95630976]\n",
            "value of w1 is [5.00282773] and w2 is [1.9971799]\n"
          ],
          "name": "stdout"
        },
        {
          "output_type": "execute_result",
          "data": {
            "text/plain": [
              "[<matplotlib.lines.Line2D at 0x7f0e73798b38>]"
            ]
          },
          "metadata": {
            "tags": []
          },
          "execution_count": 81
        },
        {
          "output_type": "display_data",
          "data": {
            "image/png": "[encoded data removed]",
            "text/plain": [
              "<Figure size 432x288 with 1 Axes>"
            ]
          },
          "metadata": {
            "tags": []
          }
        }
      ]
    },
    {
      "cell_type": "code",
      "metadata": {
        "id": "bmgGwGErmiYo",
        "colab_type": "code",
        "colab": {}
      },
      "source": [
        ""
      ],
      "execution_count": 0,
      "outputs": []
    },
    {
      "cell_type": "code",
      "metadata": {
        "id": "0C0Uwgf0mmrp",
        "colab_type": "code",
        "colab": {}
      },
      "source": [
        ""
      ],
      "execution_count": 0,
      "outputs": []
    }
  ]
}