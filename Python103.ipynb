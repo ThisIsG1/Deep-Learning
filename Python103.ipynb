{
  "nbformat": 4,
  "nbformat_minor": 0,
  "metadata": {
    "colab": {
      "name": "Python103.ipynb",
      "provenance": [],
      "collapsed_sections": []
    },
    "kernelspec": {
      "name": "python3",
      "display_name": "Python 3"
    }
  },
  "cells": [
    {
      "cell_type": "markdown",
      "metadata": {
        "id": "JaPTe4wKO9Do",
        "colab_type": "text"
      },
      "source": [
        "## Control Statements"
      ]
    },
    {
      "cell_type": "code",
      "metadata": {
        "id": "8JGDV0n2PQoZ",
        "colab_type": "code",
        "colab": {}
      },
      "source": [
        "#if, while"
      ],
      "execution_count": 0,
      "outputs": []
    },
    {
      "cell_type": "code",
      "metadata": {
        "id": "iWCLXPHfPS_X",
        "colab_type": "code",
        "colab": {
          "base_uri": "https://localhost:8080/",
          "height": 36
        },
        "outputId": "bc3f96e9-f4b3-49ab-cb41-a7abb97d4266"
      },
      "source": [
        "a = 10 \n",
        "if a is 10:\n",
        "    print(\"True\")"
      ],
      "execution_count": 2,
      "outputs": [
        {
          "output_type": "stream",
          "text": [
            "True\n"
          ],
          "name": "stdout"
        }
      ]
    },
    {
      "cell_type": "code",
      "metadata": {
        "id": "AK4lqYINPeSL",
        "colab_type": "code",
        "colab": {
          "base_uri": "https://localhost:8080/",
          "height": 36
        },
        "outputId": "9d84d794-fa65-4ef7-97e7-8315b4d9cc34"
      },
      "source": [
        "if a is 20:\n",
        "    print(\"A is 20\")\n",
        "else:\n",
        "    print(\"A is not 20\")"
      ],
      "execution_count": 3,
      "outputs": [
        {
          "output_type": "stream",
          "text": [
            "A is not 20\n"
          ],
          "name": "stdout"
        }
      ]
    },
    {
      "cell_type": "code",
      "metadata": {
        "id": "_ZVkRVFTPu-r",
        "colab_type": "code",
        "colab": {
          "base_uri": "https://localhost:8080/",
          "height": 36
        },
        "outputId": "92d6d351-cb3b-4caa-b387-75e45f6417c9"
      },
      "source": [
        "score = 78\n",
        "if score > 90:\n",
        "    print(\"First Division\")\n",
        "elif score > 70:\n",
        "    print(\"Second Division\")\n",
        "elif score > 50:\n",
        "    print(\"Third Division\")\n",
        "else:\n",
        "    print(\"Sorry!\")"
      ],
      "execution_count": 4,
      "outputs": [
        {
          "output_type": "stream",
          "text": [
            "Second Division\n"
          ],
          "name": "stdout"
        }
      ]
    },
    {
      "cell_type": "code",
      "metadata": {
        "id": "qtoeMbZyQQlp",
        "colab_type": "code",
        "colab": {
          "base_uri": "https://localhost:8080/",
          "height": 36
        },
        "outputId": "e68655fb-8dcb-438d-caa1-4bd774257205"
      },
      "source": [
        "if score > 75 and a == 10:\n",
        "    print(\"Done\")"
      ],
      "execution_count": 7,
      "outputs": [
        {
          "output_type": "stream",
          "text": [
            "Done\n"
          ],
          "name": "stdout"
        }
      ]
    },
    {
      "cell_type": "code",
      "metadata": {
        "id": "KV032x7IQeSb",
        "colab_type": "code",
        "colab": {
          "base_uri": "https://localhost:8080/",
          "height": 203
        },
        "outputId": "00c82c9c-6393-4506-f6da-b80ebd9486c4"
      },
      "source": [
        "b = 20 \n",
        "while b > 10:\n",
        "    print(f\"b : {b} is greater than 10\")\n",
        "    b = b - 1"
      ],
      "execution_count": 8,
      "outputs": [
        {
          "output_type": "stream",
          "text": [
            "b : 20 is greater than 10\n",
            "b : 19 is greater than 10\n",
            "b : 18 is greater than 10\n",
            "b : 17 is greater than 10\n",
            "b : 16 is greater than 10\n",
            "b : 15 is greater than 10\n",
            "b : 14 is greater than 10\n",
            "b : 13 is greater than 10\n",
            "b : 12 is greater than 10\n",
            "b : 11 is greater than 10\n"
          ],
          "name": "stdout"
        }
      ]
    },
    {
      "cell_type": "markdown",
      "metadata": {
        "id": "6NnUofyNQ3Ai",
        "colab_type": "text"
      },
      "source": [
        "## Looping"
      ]
    },
    {
      "cell_type": "code",
      "metadata": {
        "id": "21OffYHeRJis",
        "colab_type": "code",
        "colab": {}
      },
      "source": [
        "#iter - string, list , tuple"
      ],
      "execution_count": 0,
      "outputs": []
    },
    {
      "cell_type": "code",
      "metadata": {
        "id": "7YYqsxKpRNzH",
        "colab_type": "code",
        "colab": {}
      },
      "source": [
        "astr = \"Python is great\""
      ],
      "execution_count": 0,
      "outputs": []
    },
    {
      "cell_type": "code",
      "metadata": {
        "id": "mgC6ya-1RP5M",
        "colab_type": "code",
        "colab": {
          "base_uri": "https://localhost:8080/",
          "height": 296
        },
        "outputId": "347a6901-971f-4ce4-dc88-448345bb28da"
      },
      "source": [
        "for i in astr:\n",
        "    print(i)"
      ],
      "execution_count": 13,
      "outputs": [
        {
          "output_type": "stream",
          "text": [
            "P\n",
            "y\n",
            "t\n",
            "h\n",
            "o\n",
            "n\n",
            " \n",
            "i\n",
            "s\n",
            " \n",
            "g\n",
            "r\n",
            "e\n",
            "a\n",
            "t\n"
          ],
          "name": "stdout"
        }
      ]
    },
    {
      "cell_type": "code",
      "metadata": {
        "id": "MAF2lQ-sRUcG",
        "colab_type": "code",
        "colab": {}
      },
      "source": [
        "alist = [3, 3.14, 24, 5, 63, 4.67]"
      ],
      "execution_count": 0,
      "outputs": []
    },
    {
      "cell_type": "code",
      "metadata": {
        "id": "eZR13aHiRcyH",
        "colab_type": "code",
        "colab": {
          "base_uri": "https://localhost:8080/",
          "height": 128
        },
        "outputId": "e221ac39-ad8f-4e48-d3da-4aeba58ea5c8"
      },
      "source": [
        "for i in alist:\n",
        "    print(i*5)"
      ],
      "execution_count": 17,
      "outputs": [
        {
          "output_type": "stream",
          "text": [
            "15\n",
            "15.700000000000001\n",
            "120\n",
            "25\n",
            "315\n",
            "23.35\n"
          ],
          "name": "stdout"
        }
      ]
    },
    {
      "cell_type": "code",
      "metadata": {
        "id": "35g0iQRnRfrF",
        "colab_type": "code",
        "colab": {}
      },
      "source": [
        "blist = []\n",
        "for i in alist:\n",
        "    blist.append(i*5)"
      ],
      "execution_count": 0,
      "outputs": []
    },
    {
      "cell_type": "code",
      "metadata": {
        "id": "9tB8ae5RRrUe",
        "colab_type": "code",
        "colab": {
          "base_uri": "https://localhost:8080/",
          "height": 36
        },
        "outputId": "4df2811d-828c-4285-ec56-e1c06c920c04"
      },
      "source": [
        "blist"
      ],
      "execution_count": 21,
      "outputs": [
        {
          "output_type": "execute_result",
          "data": {
            "text/plain": [
              "[15, 15.700000000000001, 120, 25, 315, 23.35]"
            ]
          },
          "metadata": {
            "tags": []
          },
          "execution_count": 21
        }
      ]
    },
    {
      "cell_type": "code",
      "metadata": {
        "id": "L1CsEcDcRsHn",
        "colab_type": "code",
        "colab": {}
      },
      "source": [
        "clist = [12,4,100, 1313,131, 100, 11, 424, 42, 100, 646, 64, 100]"
      ],
      "execution_count": 0,
      "outputs": []
    },
    {
      "cell_type": "code",
      "metadata": {
        "id": "S4GSX6USR3dx",
        "colab_type": "code",
        "colab": {
          "base_uri": "https://localhost:8080/",
          "height": 36
        },
        "outputId": "5203b0f4-4124-499e-ff07-a377d8c4ff45"
      },
      "source": [
        "clist.count(100)"
      ],
      "execution_count": 24,
      "outputs": [
        {
          "output_type": "execute_result",
          "data": {
            "text/plain": [
              "4"
            ]
          },
          "metadata": {
            "tags": []
          },
          "execution_count": 24
        }
      ]
    },
    {
      "cell_type": "code",
      "metadata": {
        "id": "c-KPJTU-R7BM",
        "colab_type": "code",
        "colab": {}
      },
      "source": [
        "dlist = []\n",
        "for i in clist:\n",
        "    if i != 100:\n",
        "        dlist.append(i)"
      ],
      "execution_count": 0,
      "outputs": []
    },
    {
      "cell_type": "code",
      "metadata": {
        "id": "B4kU_vwJSKF7",
        "colab_type": "code",
        "colab": {
          "base_uri": "https://localhost:8080/",
          "height": 36
        },
        "outputId": "416cce2c-1518-42b9-e3c5-1aeb5b4927bf"
      },
      "source": [
        "dlist"
      ],
      "execution_count": 33,
      "outputs": [
        {
          "output_type": "execute_result",
          "data": {
            "text/plain": [
              "[12, 4, 1313, 131, 11, 424, 42, 646, 64]"
            ]
          },
          "metadata": {
            "tags": []
          },
          "execution_count": 33
        }
      ]
    },
    {
      "cell_type": "code",
      "metadata": {
        "id": "ulLfIDuySLC1",
        "colab_type": "code",
        "colab": {}
      },
      "source": [
        "#list comprehension"
      ],
      "execution_count": 0,
      "outputs": []
    },
    {
      "cell_type": "code",
      "metadata": {
        "id": "dVq1CnbRSn3_",
        "colab_type": "code",
        "colab": {
          "base_uri": "https://localhost:8080/",
          "height": 36
        },
        "outputId": "38c3899d-891c-4dfb-ccc7-12bdb098afec"
      },
      "source": [
        "[i for i in clist if i is not 100]"
      ],
      "execution_count": 31,
      "outputs": [
        {
          "output_type": "execute_result",
          "data": {
            "text/plain": [
              "[12, 4, 1313, 131, 11, 424, 42, 646, 64]"
            ]
          },
          "metadata": {
            "tags": []
          },
          "execution_count": 31
        }
      ]
    },
    {
      "cell_type": "code",
      "metadata": {
        "id": "KuM3yw5rSr2z",
        "colab_type": "code",
        "colab": {}
      },
      "source": [
        ""
      ],
      "execution_count": 0,
      "outputs": []
    }
  ]
}